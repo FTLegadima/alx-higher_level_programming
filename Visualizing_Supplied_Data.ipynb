{
  "nbformat": 4,
  "nbformat_minor": 0,
  "metadata": {
    "colab": {
      "provenance": [],
      "authorship_tag": "ABX9TyM3CiEP2uXWBkvwOb/GP2Xo",
      "include_colab_link": true
    },
    "kernelspec": {
      "name": "python3",
      "display_name": "Python 3"
    },
    "language_info": {
      "name": "python"
    }
  },
  "cells": [
    {
      "cell_type": "markdown",
      "metadata": {
        "id": "view-in-github",
        "colab_type": "text"
      },
      "source": [
        "<a href=\"https://colab.research.google.com/github/FTLegadima/alx-higher_level_programming/blob/master/Visualizing_Supplied_Data.ipynb\" target=\"_parent\"><img src=\"https://colab.research.google.com/assets/colab-badge.svg\" alt=\"Open In Colab\"/></a>"
      ]
    },
    {
      "cell_type": "markdown",
      "source": [
        "Assessment: Visualizing Supplied Data"
      ],
      "metadata": {
        "id": "C5Q8f2s46Nka"
      }
    },
    {
      "cell_type": "markdown",
      "source": [
        "Objective: Visualize the supplied data in a graph programmatically using Python"
      ],
      "metadata": {
        "id": "_ic-1lEF6Ufk"
      }
    },
    {
      "cell_type": "markdown",
      "source": [
        "Tools and Languages:\n",
        "\n",
        "Python: Chosen for its powerful libraries for data manipulation and visualization.\n",
        "Libraries: pandas for data manipulation, matplotlib for plotting."
      ],
      "metadata": {
        "id": "lrGqqjfl6amG"
      }
    },
    {
      "cell_type": "markdown",
      "source": [
        "1. Import Libraries"
      ],
      "metadata": {
        "id": "-aLekTop6opZ"
      }
    },
    {
      "cell_type": "code",
      "source": [
        "import json\n",
        "import pandas as pd\n",
        "import matplotlib.pyplot as plt\n",
        "\n",
        "\n"
      ],
      "metadata": {
        "id": "yxCS7pVA60_P"
      },
      "execution_count": null,
      "outputs": []
    },
    {
      "cell_type": "markdown",
      "source": [
        "Explanation:\n",
        "\n",
        "json: Used to parse JSON data.\n",
        "pandas: Provides data structures and functions needed to manipulate structured data seamlessly.\n",
        "matplotlib.pyplot: A plotting library used to create static, animated, and interactive visualizations in Python."
      ],
      "metadata": {
        "id": "mVUJlJ2x663_"
      }
    },
    {
      "cell_type": "markdown",
      "source": [
        "2. Load the JSON Data"
      ],
      "metadata": {
        "id": "Fpbs1ffI7NSE"
      }
    },
    {
      "cell_type": "code",
      "source": [
        "# JSON data provided\n",
        "data = [\n",
        "    {\"Date\": \"2020/03/05\", \"Total Confirmed Cases\": 1, \"Total Deaths\": 0, \"Total Recovered\": 0, \"Active Cases\": 1, \"Daily Confirmed Cases\": 0, \"Daily  deaths\": 0},\n",
        "    {\"Date\": \"2020/03/06\", \"Total Confirmed Cases\": 1, \"Total Deaths\": 0, \"Total Recovered\": 0, \"Active Cases\": 1, \"Daily Confirmed Cases\": 0, \"Daily  deaths\": 0},\n",
        "    # ... (rest of the data)\n",
        "]\n",
        "\n",
        "# Convert the data to a DataFrame\n",
        "df = pd.DataFrame(data)\n",
        "\n"
      ],
      "metadata": {
        "id": "ccLeL1xl7Tse"
      },
      "execution_count": null,
      "outputs": []
    },
    {
      "cell_type": "markdown",
      "source": [
        "Explanation:\n",
        "\n",
        "The JSON data is directly assigned to a variable and converted into a pandas DataFrame for easier manipulation and analysis."
      ],
      "metadata": {
        "id": "bv3Na3q-8bAM"
      }
    },
    {
      "cell_type": "markdown",
      "source": [
        "3. Convert Date Column"
      ],
      "metadata": {
        "id": "wS2IFFi58f08"
      }
    },
    {
      "cell_type": "code",
      "source": [
        "# Convert 'Date' column to datetime format\n",
        "df['Date'] = pd.to_datetime(df['Date'])\n",
        "\n",
        "\n"
      ],
      "metadata": {
        "id": "htI63xad8lX4"
      },
      "execution_count": null,
      "outputs": []
    },
    {
      "cell_type": "markdown",
      "source": [
        "Explanation:\n",
        "\n",
        "The 'Date' column is converted to datetime format to ensure proper plotting and time-based analysis.\n"
      ],
      "metadata": {
        "id": "SiHpLVST8rpK"
      }
    },
    {
      "cell_type": "markdown",
      "source": [
        "4. Clean the Data"
      ],
      "metadata": {
        "id": "234UKdUD88WG"
      }
    },
    {
      "cell_type": "code",
      "source": [
        "# Clean the data by removing spaces and converting to integers\n",
        "for column in ['Total Confirmed Cases', 'Total Deaths', 'Total Recovered', 'Active Cases', 'Daily Confirmed Cases', 'Daily  deaths']:\n",
        "    df[column] = df[column].replace({' ': ''}, regex=True).astype(int)\n",
        "\n",
        "\n"
      ],
      "metadata": {
        "id": "ittTZIyA8_ZR"
      },
      "execution_count": null,
      "outputs": []
    },
    {
      "cell_type": "markdown",
      "source": [
        "Explanation:\n",
        "\n",
        "Spaces are removed from numeric columns to handle any formatting issues, and the data is converted to integers for accurate calculations."
      ],
      "metadata": {
        "id": "f2XeyXeN9GBe"
      }
    },
    {
      "cell_type": "markdown",
      "source": [
        "5. Plot the Data"
      ],
      "metadata": {
        "id": "81xlTvU-9Sa6"
      }
    },
    {
      "cell_type": "code",
      "source": [
        "# Plotting the trend of total confirmed cases, total deaths, and total recoveries over time\n",
        "plt.figure(figsize=(12, 6))\n",
        "\n",
        "plt.plot(df['Date'], df['Total Confirmed Cases'], label='Total Confirmed Cases', color='blue')\n",
        "plt.plot(df['Date'], df['Total Deaths'], label='Total Deaths', color='red')\n",
        "plt.plot(df['Date'], df['Total Recovered'], label='Total Recovered', color='green')\n",
        "\n",
        "plt.title('COVID-19 Trend Over Time')\n",
        "plt.xlabel('Date')\n",
        "plt.ylabel('Number of Cases')\n",
        "plt.legend()\n",
        "plt.grid(True)\n",
        "\n",
        "# Save the plot as an image file\n",
        "plt.savefig('covid_trend.png')\n",
        "\n",
        "# Show the plot\n",
        "plt.show()\n",
        "\n",
        "\n",
        "\n"
      ],
      "metadata": {
        "colab": {
          "base_uri": "https://localhost:8080/",
          "height": 564
        },
        "id": "eVwWzO9Z9Uzu",
        "outputId": "82b0c0e1-8d1a-4698-d273-c648a46fb7bf"
      },
      "execution_count": null,
      "outputs": [
        {
          "output_type": "display_data",
          "data": {
            "text/plain": [
              "<Figure size 1200x600 with 1 Axes>"
            ],
            "image/png": "[encoded data removed]"
          },
          "metadata": {}
        }
      ]
    },
    {
      "cell_type": "markdown",
      "source": [
        "Explanation:\n",
        "\n",
        "A line plot is created to visualize the trends of total confirmed cases, total deaths, and total recoveries over time.\n",
        "The plot is saved as an image file (covid_trend.png) and displayed within the notebook.\n",
        "External Libraries Required\n",
        "pandas: For data manipulation and analysis\n",
        "matplotlib: For creating visualizations.\n",
        "Conclusion\n",
        "This code successfully visualizes the COVID-19 data over time, providing insights into the trends of confirmed cases, deaths, and recoveries. The use of pandas and matplotlib allows for efficient data handling and clear visual representation.\n",
        "\n"
      ],
      "metadata": {
        "id": "WobW_FvJ9fls"
      }
    }
  ]
}